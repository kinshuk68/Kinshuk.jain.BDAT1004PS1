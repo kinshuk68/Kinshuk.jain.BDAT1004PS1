{
 "cells": [
  {
   "cell_type": "markdown",
   "id": "923b98e8",
   "metadata": {},
   "source": [
    "# DATA PROGRAMMING - PROBLEM SET 1"
   ]
  },
  {
   "cell_type": "markdown",
   "id": "3ea2a73e",
   "metadata": {},
   "source": [
    " # Q1:- What data type is each of the following (evaluate where necessary)?"
   ]
  },
  {
   "cell_type": "markdown",
   "id": "f7678818",
   "metadata": {},
   "source": [
    " 5\t<br>\n",
    " 5.0\t<br>\n",
    " 5 > 1\t<br>\n",
    " '5'\t<br>\n",
    " 5 * 2\t<br>\n",
    " '5' * 2\t<br>\n",
    " '5' + '2'\t<br>\n",
    " 5 / 2\t<br>\n",
    " 5% 2\t<br>\n",
    " {5, 2, 1}\t<br>\n",
    " 5== 3\t<br>\n",
    " Pi(the number)\t<br>"
   ]
  },
  {
   "cell_type": "markdown",
   "id": "4852840b",
   "metadata": {},
   "source": [
    " ANSWER :-1"
   ]
  },
  {
   "cell_type": "markdown",
   "id": "a2d89fac",
   "metadata": {},
   "source": [
    "| VALUE      |  DATA TYPE                      |\n",
    "|----------- |---------------------------------|\n",
    "|5           |INTEGER DATA TYPE                |\n",
    "|5.0         | FLOATING POINT DATA TYPE        |\n",
    "|5 > 1       |BOOLEAN DATA TYPE (5 IS GREATER THAN 1 , SO IT IS TRUE)|\n",
    "|'5'         | STRING DATA TYPE|\n",
    "|5 * 2       |INTEGER DATA TYPE (5*2=10)|\n",
    "|'5' * 2     | STRING DATA TYPE (55)|\n",
    "|'5' + '2'   |STRING DATA TYPE (52)|\n",
    "|5 / 2       | FLOATING POINT DECIMAL DATA TYPE (2.5)|\n",
    "|5% 2        |INTEGER DATA TYPE (1)|\n",
    "|{5, 2, 1}   |SET (3 INTEGERS )|\n",
    "|5== 3       |BOOLEAN DATA TYPE (5 IS NOT EQUAL TO 3 , SO IT IS FALSE)|\n",
    "|Pi(thenumber)| FLOATING POINT DECIMAL DATA TYPE(3.14.......)|"
   ]
  },
  {
   "cell_type": "code",
   "execution_count": 1,
   "id": "bb04d9ea",
   "metadata": {},
   "outputs": [
    {
     "name": "stdout",
     "output_type": "stream",
     "text": [
      "True\n"
     ]
    }
   ],
   "source": [
    "print(5>1)\n"
   ]
  },
  {
   "cell_type": "code",
   "execution_count": 2,
   "id": "02c01ce4",
   "metadata": {},
   "outputs": [
    {
     "name": "stdout",
     "output_type": "stream",
     "text": [
      "10\n"
     ]
    }
   ],
   "source": [
    "print(5*2)"
   ]
  },
  {
   "cell_type": "code",
   "execution_count": 3,
   "id": "881ad182",
   "metadata": {},
   "outputs": [
    {
     "name": "stdout",
     "output_type": "stream",
     "text": [
      "55\n"
     ]
    }
   ],
   "source": [
    "print('5' *2)"
   ]
  },
  {
   "cell_type": "code",
   "execution_count": 4,
   "id": "52b65c57",
   "metadata": {},
   "outputs": [
    {
     "name": "stdout",
     "output_type": "stream",
     "text": [
      "52\n"
     ]
    }
   ],
   "source": [
    "print('5' + '2')"
   ]
  },
  {
   "cell_type": "code",
   "execution_count": 5,
   "id": "72b3b325",
   "metadata": {},
   "outputs": [
    {
     "name": "stdout",
     "output_type": "stream",
     "text": [
      "2.5\n"
     ]
    }
   ],
   "source": [
    "print(5/2)"
   ]
  },
  {
   "cell_type": "code",
   "execution_count": 6,
   "id": "478a851a",
   "metadata": {},
   "outputs": [
    {
     "name": "stdout",
     "output_type": "stream",
     "text": [
      "1\n"
     ]
    }
   ],
   "source": [
    "print(5%2)"
   ]
  },
  {
   "cell_type": "code",
   "execution_count": 7,
   "id": "2d20ec21",
   "metadata": {},
   "outputs": [
    {
     "name": "stdout",
     "output_type": "stream",
     "text": [
      "False\n"
     ]
    }
   ],
   "source": [
    "print(5==3)"
   ]
  },
  {
   "cell_type": "markdown",
   "id": "bab3dfe9",
   "metadata": {},
   "source": [
    "# Question 2\n",
    "# Write (and evaluate) python expressions that answer these questions:\n",
    "\n"
   ]
  },
  {
   "cell_type": "markdown",
   "id": "dd0ee555",
   "metadata": {},
   "source": [
    "A)How many letters are there in 'Supercalifragilisticexpialidocious'?"
   ]
  },
  {
   "cell_type": "code",
   "execution_count": 8,
   "id": "66e5be7e",
   "metadata": {},
   "outputs": [
    {
     "name": "stdout",
     "output_type": "stream",
     "text": [
      "34\n"
     ]
    }
   ],
   "source": [
    "word= 'Supercalifragilisticexpialidocious'\n",
    "print(len(word))"
   ]
  },
  {
   "cell_type": "markdown",
   "id": "02e512de",
   "metadata": {},
   "source": [
    "B)Does 'Supercalifragilisticexpialidocious' contain 'ice' as a substring?\n",
    "\n"
   ]
  },
  {
   "cell_type": "code",
   "execution_count": 9,
   "id": "523856f6",
   "metadata": {},
   "outputs": [
    {
     "data": {
      "text/plain": [
       "True"
      ]
     },
     "execution_count": 9,
     "metadata": {},
     "output_type": "execute_result"
    }
   ],
   "source": [
    "word='Supercalifragilisticexpialidocious'\n",
    "\"ice\" in word"
   ]
  },
  {
   "cell_type": "markdown",
   "id": "c51e007a",
   "metadata": {},
   "source": [
    "C) Which of the following words is the longest: Supercalifragilisticexpialidocious, Honorificabilitudinitatibus, or Bababadalgharaghtakamminarronnkonn?"
   ]
  },
  {
   "cell_type": "code",
   "execution_count": 10,
   "id": "47d450f2",
   "metadata": {},
   "outputs": [
    {
     "name": "stdout",
     "output_type": "stream",
     "text": [
      "The Longest Word is : Supercalifragilisticexpialidocious\n"
     ]
    }
   ],
   "source": [
    "words = [\"Supercalifragilisticexpialidocious\", \"Honorificabilitudinitatibus\", \"Bababadalgharaghtakamminarronnkonn\"]\n",
    "longest=max(words, key=len)\n",
    "print(\"The Longest Word is :\",longest)"
   ]
  },
  {
   "cell_type": "markdown",
   "id": "30514004",
   "metadata": {},
   "source": [
    "D)Which composer comes first in the dictionary: 'Berlioz', 'Borodin', 'Brian', 'Bartok', 'Bellini', 'Buxtehude', 'Bernstein'. Which one comes last?"
   ]
  },
  {
   "cell_type": "code",
   "execution_count": 11,
   "id": "c939d3ea",
   "metadata": {},
   "outputs": [
    {
     "name": "stdout",
     "output_type": "stream",
     "text": [
      "['Bartok', 'Bellini', 'Berlioz', 'Bernstein', 'Borodin', 'Brian', 'Buxtehude']\n",
      "first_composer: Bartok\n",
      "last_composer: Buxtehude\n"
     ]
    }
   ],
   "source": [
    "composer=[ 'Berlioz', 'Borodin', 'Brian', 'Bartok', 'Bellini', 'Buxtehude', 'Bernstein']\n",
    "composer.sort()\n",
    "print(composer)\n",
    "print(\"first_composer:\",composer[0])\n",
    "print(\"last_composer:\",composer[-1])\n"
   ]
  },
  {
   "cell_type": "markdown",
   "id": "29fe689d",
   "metadata": {},
   "source": [
    " # Question 3"
   ]
  },
  {
   "cell_type": "markdown",
   "id": "1bfd5a5e",
   "metadata": {},
   "source": [
    "Implement function triangleArea(a,b,c) that takes as input the lengths of the 3 sides of a triangle and returns the area of the triangle. By Heron's formula, the area of a triangle with side lengths a, b, and c is , where .\n",
    "\n",
    "  s(s-a)(s-b)(s-c)\n",
    "  s=(a+b+c)/2"
   ]
  },
  {
   "cell_type": "markdown",
   "id": "c503d1c5",
   "metadata": {},
   "source": [
    " ANSWER:-3"
   ]
  },
  {
   "cell_type": "code",
   "execution_count": 12,
   "id": "8c0df4f5",
   "metadata": {},
   "outputs": [
    {
     "name": "stdout",
     "output_type": "stream",
     "text": [
      "enter the length of side a: 2\n",
      "enter the length of side b: 2\n",
      "enter the length of side c: 2\n",
      "1.7320508075688772\n"
     ]
    }
   ],
   "source": [
    "a=int(input(\"enter the length of side a: \"))\n",
    "b=int(input(\"enter the length of side b: \"))\n",
    "c=int(input(\"enter the length of side c: \"))\n",
    "\n",
    "import math\n",
    "\n",
    "s=(a+b+c)/2 \n",
    "\n",
    "areaoftriangle=math.sqrt(s*(s-a)*(s-b)*(s-c))  \n",
    "\n",
    "print(areaoftriangle)"
   ]
  },
  {
   "cell_type": "markdown",
   "id": "90919e9e",
   "metadata": {},
   "source": [
    "# Question 4\n",
    "# Write a program in python to separate odd and even integers in separate arrays."
   ]
  },
  {
   "cell_type": "code",
   "execution_count": 13,
   "id": "f767f135",
   "metadata": {},
   "outputs": [
    {
     "name": "stdout",
     "output_type": "stream",
     "text": [
      "enter the number of elements to be stored in the array:  5\n",
      "enter the element : \n",
      "25\n",
      "47\n",
      "42\n",
      "56\n",
      "32\n",
      "The even elements are :  [42, 56, 32]\n",
      "The odd elements are :  [25, 47]\n"
     ]
    }
   ],
   "source": [
    "def evenodd(Y):\n",
    "    evenlist = []\n",
    "    oddlist=[]\n",
    "    for i in Y:\n",
    "      if(i%2 == 0):\n",
    "         evenlist.append(i)\n",
    "      else:\n",
    "        oddlist.append(i)\n",
    "    print(\"The even elements are : \" , evenlist)\n",
    "    print(\"The odd elements are : \", oddlist)\n",
    "            \n",
    "Y=list()\n",
    "n=int(input(\"enter the number of elements to be stored in the array:  \"))\n",
    "print(\"enter the element : \")\n",
    "for i in range(int(n)):\n",
    "    p=int(input(\"\"))\n",
    "    Y.append(p)\n",
    "evenodd(Y)"
   ]
  },
  {
   "cell_type": "markdown",
   "id": "9833d0f6",
   "metadata": {},
   "source": [
    "# Question 5"
   ]
  },
  {
   "cell_type": "markdown",
   "id": "1f3e737d",
   "metadata": {},
   "source": [
    "a) Write a function inside(x,y,x1,y1,x2,y2) that returns True or False depending on whether the point (x,y) lies in the rectangle with lower left corner (x1,y1) and upper right corner (x2,y2)."
   ]
  },
  {
   "cell_type": "code",
   "execution_count": 14,
   "id": "84c8414f",
   "metadata": {},
   "outputs": [
    {
     "name": "stdout",
     "output_type": "stream",
     "text": [
      "True\n",
      "False\n"
     ]
    }
   ],
   "source": [
    "def inside(x,y,x1,y1,x2,y2):\n",
    "    \n",
    "    return(x<x2 and x>x1 and y<y2 and y>y1)\n",
    "\n",
    "print(inside(1,1,0,0,2,3))\n",
    "\n",
    "print(inside(-1,-1,0,0,2,3))"
   ]
  },
  {
   "cell_type": "markdown",
   "id": "4d18ec00",
   "metadata": {},
   "source": [
    "b) Use function inside() from part a. to write an expression that tests whether the point (1,1) lies in both of the following rectangles: one with lower left corner (0.3, 0.5) and upper right corner (1.1, 0.7) and the other with lower left corner (0.5, 0.2) and upper right corner (1.1, 2)."
   ]
  },
  {
   "cell_type": "code",
   "execution_count": 15,
   "id": "b79cae77",
   "metadata": {},
   "outputs": [
    {
     "name": "stdout",
     "output_type": "stream",
     "text": [
      "False\n"
     ]
    }
   ],
   "source": [
    "def inside(x, y, x1, y1, x2, y2):\n",
    "    return x1 <= x <= x2 and y1 <= y <= y2\n",
    "\n",
    "\n",
    "r1 = inside(1, 1, 0.3, 0.5, 1.1, 0.7)\n",
    "\n",
    "\n",
    "r2 = inside(1, 1, 0.5, 0.2, 1.1, 2)\n",
    "\n",
    "\n",
    "final_result = r1 and r2\n",
    "\n",
    "print(final_result)\n"
   ]
  },
  {
   "cell_type": "markdown",
   "id": "5cc7b244",
   "metadata": {},
   "source": [
    "# Question 6"
   ]
  },
  {
   "cell_type": "markdown",
   "id": "9b0bdf7d",
   "metadata": {},
   "source": [
    " You can turn a word into pig-Latin using the following two rules (simplified):\n",
    "\n",
    "If the word starts with a consonant, move that letter to the end and append 'ay'. For example, 'happy' becomes 'appyhay' and 'pencil' becomes 'encilpay'.\n",
    "If the word starts with a vowel, simply append 'way' to the end of the word. For example, 'enter' becomes 'enterway' and 'other' becomes 'otherway' . For our purposes, there are 5 vowels: a, e, i, o, u (so we count y as a consonant).\n",
    "Write a function pig() that takes a word (i.e., a string) as input and returns its pig-Latin form. Your function should still work if the input word contains upper case characters. Your output should always be lower case however"
   ]
  },
  {
   "cell_type": "code",
   "execution_count": 16,
   "id": "43b90a7b",
   "metadata": {},
   "outputs": [
    {
     "name": "stdout",
     "output_type": "stream",
     "text": [
      "enter word 1: happy\n",
      "enter word 2: enter\n",
      "pig latin 1: appyhay\n",
      "pig latin 2: enterway\n"
     ]
    }
   ],
   "source": [
    "def pig(word):\n",
    "    word=word.lower()\n",
    "    \n",
    "    vowels = ['a','e','i','o','u']\n",
    "    \n",
    "    if word[0] not in vowels:\n",
    "        pig_latin_word = word[1:] + word[0] + 'ay'\n",
    "    else:\n",
    "        pig_latin_word = word + 'way'\n",
    "            \n",
    "    return pig_latin_word\n",
    "\n",
    "input_words = []\n",
    "for i in range(2):\n",
    "    user_input = input(f\"enter word {i + 1}: \")\n",
    "    input_words.append(user_input)\n",
    "    \n",
    "for i , word in enumerate(input_words):\n",
    "    result = pig(word)\n",
    "    print(f\"pig latin {i+1}: {result}\")\n",
    "    \n",
    "\n",
    "            "
   ]
  },
  {
   "cell_type": "markdown",
   "id": "6a58a11d",
   "metadata": {},
   "source": [
    " # Question 7"
   ]
  },
  {
   "cell_type": "markdown",
   "id": "2a208cc1",
   "metadata": {},
   "source": [
    "File bloodtype1.txt records blood-types of patients (A, B, AB, O or OO) at a clinic. Write a function bldcount() that reads the file with name name and reports (i.e., prints) how many patients there are in each bloodtype."
   ]
  },
  {
   "cell_type": "code",
   "execution_count": 17,
   "id": "26a4098c",
   "metadata": {},
   "outputs": [
    {
     "name": "stdout",
     "output_type": "stream",
     "text": [
      "AB AB B O A A AB O AB A O O A A A O O O AB O A A A A A AB AB A AB O AB O A O O O AB O AB AB AB A A O \n",
      "\n",
      "There are 15 patients of blood type A\n",
      "There are 1 patients of blood type B\n",
      "There are 13 patients of blood type AB\n",
      "There are 15 patients of blood type O\n",
      "There are 0 patients of blood type OO\n"
     ]
    }
   ],
   "source": [
    "file_path = \"Downloads/bloodtype1.txt\"\n",
    "blood_type_counts = {'A': 0, 'B': 0, 'AB': 0, 'O': 0 ,'OO':0}\n",
    "with open(file_path, 'r') as file:\n",
    "\n",
    "    for line in file:\n",
    "        print(line)\n",
    "        blood_type = line.split()\n",
    "        for blood_group in blood_type:\n",
    "            blood_type_counts[blood_group] = blood_type_counts[blood_group]+1\n",
    "for key,values in  blood_type_counts.items():\n",
    "    print(f\"There are {values} patients of blood type {key}\")"
   ]
  },
  {
   "cell_type": "markdown",
   "id": "78433ff9",
   "metadata": {},
   "source": [
    "# Question 8"
   ]
  },
  {
   "cell_type": "markdown",
   "id": "b4058707",
   "metadata": {},
   "source": [
    "Write a function curconv() that takes as input:\n",
    "\n",
    "a currency represented using a string (e.g., 'JPY' for the Japanese Yen or 'EUR' for the Euro)\n",
    "an amount\n",
    "and then converts and returns the amount in US dollars."
   ]
  },
  {
   "cell_type": "code",
   "execution_count": 18,
   "id": "6898664d",
   "metadata": {},
   "outputs": [
    {
     "name": "stdout",
     "output_type": "stream",
     "text": [
      "122.96544\n",
      "1.241401\n"
     ]
    }
   ],
   "source": [
    "dict_currency={}\n",
    "file_path = \"Downloads/currencies.txt\"\n",
    "with open(file_path, 'r') as file:\n",
    "    for line in file:\n",
    "        cur_details = line.split('\\t')\n",
    "        key=cur_details[0]\n",
    "        values=cur_details[1:]\n",
    "        dict_currency[key]=values\n",
    "#print(dict_currency)\n",
    "\n",
    "def currconv(curr,amount):\n",
    "    print(float(dict_currency[curr][0])*amount)\n",
    "\n",
    "currconv('EUR',100)\n",
    "currconv('JPY',100)\n"
   ]
  },
  {
   "cell_type": "markdown",
   "id": "95879d26",
   "metadata": {},
   "source": [
    "# Question 9"
   ]
  },
  {
   "cell_type": "markdown",
   "id": "ee1508e5",
   "metadata": {},
   "source": [
    "Each of the following will cause an exception (an error). Identify what type of exception each will cause.\n",
    "\n"
   ]
  },
  {
   "cell_type": "code",
   "execution_count": 19,
   "id": "cf59d5cb",
   "metadata": {},
   "outputs": [
    {
     "ename": "SyntaxError",
     "evalue": "unmatched ')' (2219603762.py, line 1)",
     "output_type": "error",
     "traceback": [
      "\u001b[1;36m  Cell \u001b[1;32mIn[19], line 1\u001b[1;36m\u001b[0m\n\u001b[1;33m    A) Trying to add incompatible variables, as in adding 6 + 'a':\u001b[0m\n\u001b[1;37m     ^\u001b[0m\n\u001b[1;31mSyntaxError\u001b[0m\u001b[1;31m:\u001b[0m unmatched ')'\n"
     ]
    }
   ],
   "source": [
    "\n",
    "\n",
    "A) Trying to add incompatible variables, as in adding 6 + 'a':\n",
    "    :-TYPE ERROR: This will result in a \"TypeError\" because we are trying to perform an operation (addition) between two incompatible types(integer and string).\n",
    "\n",
    "B) Referring to the 12th item of a list that has only 10 items:\n",
    "   :-INDEXERROR: This will result in an IndexError because we are trying to access an index that is out of the range of the list.\n",
    "    \n",
    "C) Using a value that is out of range for a function's input, such as calling math.sqrt(-1.0):\n",
    "   :-VALUEERROR(Runtime Error): This will result in a ValueError because the math.sqrt() function cannot compute the square root of a negative number. \n",
    "    \n",
    "D) Using an undeclared variable, such as print(x) when x has not been defined:\n",
    "   :-NAMEERROR: This will result in a NameError because we are trying to use a variable (x) that has not been defined or is not in scope.\n",
    "    \n",
    "E) Trying to open a file that does not exist, such as mistyping the file name or looking in the wrong directory:\n",
    "    :-FILENOTFOUNDERROR: This will result in a FileNotFoundError because we are trying to open a file that does not exist at the specified location.\n",
    "\n",
    "\n",
    "\n"
   ]
  },
  {
   "cell_type": "markdown",
   "id": "7ace95c3",
   "metadata": {},
   "source": [
    "# Question 10"
   ]
  },
  {
   "cell_type": "markdown",
   "id": "4c0584e1",
   "metadata": {},
   "source": [
    "Encryption is the process of hiding the meaning of a text by substituting letters in the message with other letters, according to some system. If the process is successful, no one but the intended recipient can understand the encrypted message. Cryptanalysis refers to attempts to undo the encryption, even if some details of the encryption are unknown (for example, if an encrypted message has been intercepted). The first step of cryptanalysis is often to build up a table of letter frequencies in the encrypted text. Assume that the string letters is already defined as 'abcdefghijklmnopqrstuvwxyz'. Write a function called frequencies() that takes a string as its only parameter, and returns a list of integers, showing the number of times each character appears in the text. Your function may ignore any characters that are not in letters."
   ]
  },
  {
   "cell_type": "code",
   "execution_count": 21,
   "id": "c185a251",
   "metadata": {},
   "outputs": [
    {
     "name": "stdout",
     "output_type": "stream",
     "text": [
      "[1, 1, 1, 3, 5, 1, 1, 2, 1, 0, 1, 0, 1, 2, 4, 0, 1, 2, 0, 3, 1, 0, 1, 1, 0, 0]\n",
      "[1, 0, 0, 0, 1, 0, 0, 0, 0, 0, 0, 1, 0, 0, 0, 2, 0, 0, 0, 0, 0, 0, 0, 0, 0, 0]\n"
     ]
    }
   ],
   "source": [
    "def frequencies(text):\n",
    "    letters = 'abcdefghijklmnopqrstuvwxyz'\n",
    "    text = text.lower()\n",
    "    frequency_list = []\n",
    "    \n",
    "    for letter in letters:\n",
    "        count = text.count(letter)\n",
    "        frequency_list.append(count)\n",
    "        \n",
    "    return frequency_list\n",
    "\n",
    "r1 = frequencies('The quick red fox got bored and went home.')\n",
    "r2 = frequencies('apple')\n",
    "\n",
    "print(r1)\n",
    "print(r2)"
   ]
  },
  {
   "cell_type": "code",
   "execution_count": null,
   "id": "094356d0",
   "metadata": {},
   "outputs": [],
   "source": []
  }
 ],
 "metadata": {
  "kernelspec": {
   "display_name": "Python 3 (ipykernel)",
   "language": "python",
   "name": "python3"
  },
  "language_info": {
   "codemirror_mode": {
    "name": "ipython",
    "version": 3
   },
   "file_extension": ".py",
   "mimetype": "text/x-python",
   "name": "python",
   "nbconvert_exporter": "python",
   "pygments_lexer": "ipython3",
   "version": "3.11.4"
  }
 },
 "nbformat": 4,
 "nbformat_minor": 5
}
